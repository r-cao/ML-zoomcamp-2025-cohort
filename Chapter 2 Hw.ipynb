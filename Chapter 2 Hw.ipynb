{
 "cells": [
  {
   "cell_type": "markdown",
   "id": "445971ab",
   "metadata": {},
   "source": [
    "# Import Packages"
   ]
  },
  {
   "cell_type": "code",
   "execution_count": 1,
   "id": "b44abda9",
   "metadata": {},
   "outputs": [],
   "source": [
    "import pandas as pd\n",
    "import numpy as np\n",
    "import matplotlib.pyplot as plt\n",
    "import seaborn as sns"
   ]
  },
  {
   "cell_type": "markdown",
   "id": "14e58bce",
   "metadata": {},
   "source": [
    "# Import dataset"
   ]
  },
  {
   "cell_type": "code",
   "execution_count": 2,
   "id": "dccb8872",
   "metadata": {},
   "outputs": [],
   "source": [
    "import requests\n",
    "\n",
    "url = \"https://raw.githubusercontent.com/alexeygrigorev/datasets/master/car_fuel_efficiency.csv\"\n",
    "r = requests.get(url)\n",
    "with open(\"car_fuel_efficiency.csv\", \"wb\") as f:\n",
    "    f.write(r.content)"
   ]
  },
  {
   "cell_type": "code",
   "execution_count": 3,
   "id": "df05350e",
   "metadata": {},
   "outputs": [],
   "source": [
    "car_df = pd.read_csv(\"car_fuel_efficiency.csv\")"
   ]
  },
  {
   "cell_type": "code",
   "execution_count": 4,
   "id": "768fe7d9",
   "metadata": {},
   "outputs": [
    {
     "data": {
      "text/html": [
       "<div>\n",
       "<style scoped>\n",
       "    .dataframe tbody tr th:only-of-type {\n",
       "        vertical-align: middle;\n",
       "    }\n",
       "\n",
       "    .dataframe tbody tr th {\n",
       "        vertical-align: top;\n",
       "    }\n",
       "\n",
       "    .dataframe thead th {\n",
       "        text-align: right;\n",
       "    }\n",
       "</style>\n",
       "<table border=\"1\" class=\"dataframe\">\n",
       "  <thead>\n",
       "    <tr style=\"text-align: right;\">\n",
       "      <th></th>\n",
       "      <th>engine_displacement</th>\n",
       "      <th>num_cylinders</th>\n",
       "      <th>horsepower</th>\n",
       "      <th>vehicle_weight</th>\n",
       "      <th>acceleration</th>\n",
       "      <th>model_year</th>\n",
       "      <th>origin</th>\n",
       "      <th>fuel_type</th>\n",
       "      <th>drivetrain</th>\n",
       "      <th>num_doors</th>\n",
       "      <th>fuel_efficiency_mpg</th>\n",
       "    </tr>\n",
       "  </thead>\n",
       "  <tbody>\n",
       "    <tr>\n",
       "      <th>0</th>\n",
       "      <td>170</td>\n",
       "      <td>3.0</td>\n",
       "      <td>159.0</td>\n",
       "      <td>3413.433759</td>\n",
       "      <td>17.7</td>\n",
       "      <td>2003</td>\n",
       "      <td>Europe</td>\n",
       "      <td>Gasoline</td>\n",
       "      <td>All-wheel drive</td>\n",
       "      <td>0.0</td>\n",
       "      <td>13.231729</td>\n",
       "    </tr>\n",
       "    <tr>\n",
       "      <th>1</th>\n",
       "      <td>130</td>\n",
       "      <td>5.0</td>\n",
       "      <td>97.0</td>\n",
       "      <td>3149.664934</td>\n",
       "      <td>17.8</td>\n",
       "      <td>2007</td>\n",
       "      <td>USA</td>\n",
       "      <td>Gasoline</td>\n",
       "      <td>Front-wheel drive</td>\n",
       "      <td>0.0</td>\n",
       "      <td>13.688217</td>\n",
       "    </tr>\n",
       "    <tr>\n",
       "      <th>2</th>\n",
       "      <td>170</td>\n",
       "      <td>NaN</td>\n",
       "      <td>78.0</td>\n",
       "      <td>3079.038997</td>\n",
       "      <td>15.1</td>\n",
       "      <td>2018</td>\n",
       "      <td>Europe</td>\n",
       "      <td>Gasoline</td>\n",
       "      <td>Front-wheel drive</td>\n",
       "      <td>0.0</td>\n",
       "      <td>14.246341</td>\n",
       "    </tr>\n",
       "    <tr>\n",
       "      <th>3</th>\n",
       "      <td>220</td>\n",
       "      <td>4.0</td>\n",
       "      <td>NaN</td>\n",
       "      <td>2542.392402</td>\n",
       "      <td>20.2</td>\n",
       "      <td>2009</td>\n",
       "      <td>USA</td>\n",
       "      <td>Diesel</td>\n",
       "      <td>All-wheel drive</td>\n",
       "      <td>2.0</td>\n",
       "      <td>16.912736</td>\n",
       "    </tr>\n",
       "    <tr>\n",
       "      <th>4</th>\n",
       "      <td>210</td>\n",
       "      <td>1.0</td>\n",
       "      <td>140.0</td>\n",
       "      <td>3460.870990</td>\n",
       "      <td>14.4</td>\n",
       "      <td>2009</td>\n",
       "      <td>Europe</td>\n",
       "      <td>Gasoline</td>\n",
       "      <td>All-wheel drive</td>\n",
       "      <td>2.0</td>\n",
       "      <td>12.488369</td>\n",
       "    </tr>\n",
       "  </tbody>\n",
       "</table>\n",
       "</div>"
      ],
      "text/plain": [
       "   engine_displacement  num_cylinders  horsepower  vehicle_weight  \\\n",
       "0                  170            3.0       159.0     3413.433759   \n",
       "1                  130            5.0        97.0     3149.664934   \n",
       "2                  170            NaN        78.0     3079.038997   \n",
       "3                  220            4.0         NaN     2542.392402   \n",
       "4                  210            1.0       140.0     3460.870990   \n",
       "\n",
       "   acceleration  model_year  origin fuel_type         drivetrain  num_doors  \\\n",
       "0          17.7        2003  Europe  Gasoline    All-wheel drive        0.0   \n",
       "1          17.8        2007     USA  Gasoline  Front-wheel drive        0.0   \n",
       "2          15.1        2018  Europe  Gasoline  Front-wheel drive        0.0   \n",
       "3          20.2        2009     USA    Diesel    All-wheel drive        2.0   \n",
       "4          14.4        2009  Europe  Gasoline    All-wheel drive        2.0   \n",
       "\n",
       "   fuel_efficiency_mpg  \n",
       "0            13.231729  \n",
       "1            13.688217  \n",
       "2            14.246341  \n",
       "3            16.912736  \n",
       "4            12.488369  "
      ]
     },
     "execution_count": 4,
     "metadata": {},
     "output_type": "execute_result"
    }
   ],
   "source": [
    "car_df.head()"
   ]
  },
  {
   "cell_type": "markdown",
   "id": "ff1f70b7",
   "metadata": {},
   "source": [
    "# Prep Dataset"
   ]
  },
  {
   "cell_type": "code",
   "execution_count": 5,
   "id": "79eeeb04",
   "metadata": {},
   "outputs": [],
   "source": [
    "car_df_hw = car_df[[\"engine_displacement\", \"horsepower\", \"vehicle_weight\", \"model_year\", \"fuel_efficiency_mpg\"]]"
   ]
  },
  {
   "cell_type": "code",
   "execution_count": 6,
   "id": "aada5ad4",
   "metadata": {},
   "outputs": [
    {
     "data": {
      "text/html": [
       "<div>\n",
       "<style scoped>\n",
       "    .dataframe tbody tr th:only-of-type {\n",
       "        vertical-align: middle;\n",
       "    }\n",
       "\n",
       "    .dataframe tbody tr th {\n",
       "        vertical-align: top;\n",
       "    }\n",
       "\n",
       "    .dataframe thead th {\n",
       "        text-align: right;\n",
       "    }\n",
       "</style>\n",
       "<table border=\"1\" class=\"dataframe\">\n",
       "  <thead>\n",
       "    <tr style=\"text-align: right;\">\n",
       "      <th></th>\n",
       "      <th>engine_displacement</th>\n",
       "      <th>horsepower</th>\n",
       "      <th>vehicle_weight</th>\n",
       "      <th>model_year</th>\n",
       "      <th>fuel_efficiency_mpg</th>\n",
       "    </tr>\n",
       "  </thead>\n",
       "  <tbody>\n",
       "    <tr>\n",
       "      <th>0</th>\n",
       "      <td>170</td>\n",
       "      <td>159.0</td>\n",
       "      <td>3413.433759</td>\n",
       "      <td>2003</td>\n",
       "      <td>13.231729</td>\n",
       "    </tr>\n",
       "    <tr>\n",
       "      <th>1</th>\n",
       "      <td>130</td>\n",
       "      <td>97.0</td>\n",
       "      <td>3149.664934</td>\n",
       "      <td>2007</td>\n",
       "      <td>13.688217</td>\n",
       "    </tr>\n",
       "    <tr>\n",
       "      <th>2</th>\n",
       "      <td>170</td>\n",
       "      <td>78.0</td>\n",
       "      <td>3079.038997</td>\n",
       "      <td>2018</td>\n",
       "      <td>14.246341</td>\n",
       "    </tr>\n",
       "    <tr>\n",
       "      <th>3</th>\n",
       "      <td>220</td>\n",
       "      <td>NaN</td>\n",
       "      <td>2542.392402</td>\n",
       "      <td>2009</td>\n",
       "      <td>16.912736</td>\n",
       "    </tr>\n",
       "    <tr>\n",
       "      <th>4</th>\n",
       "      <td>210</td>\n",
       "      <td>140.0</td>\n",
       "      <td>3460.870990</td>\n",
       "      <td>2009</td>\n",
       "      <td>12.488369</td>\n",
       "    </tr>\n",
       "  </tbody>\n",
       "</table>\n",
       "</div>"
      ],
      "text/plain": [
       "   engine_displacement  horsepower  vehicle_weight  model_year  \\\n",
       "0                  170       159.0     3413.433759        2003   \n",
       "1                  130        97.0     3149.664934        2007   \n",
       "2                  170        78.0     3079.038997        2018   \n",
       "3                  220         NaN     2542.392402        2009   \n",
       "4                  210       140.0     3460.870990        2009   \n",
       "\n",
       "   fuel_efficiency_mpg  \n",
       "0            13.231729  \n",
       "1            13.688217  \n",
       "2            14.246341  \n",
       "3            16.912736  \n",
       "4            12.488369  "
      ]
     },
     "execution_count": 6,
     "metadata": {},
     "output_type": "execute_result"
    }
   ],
   "source": [
    "car_df_hw.head()"
   ]
  },
  {
   "cell_type": "markdown",
   "id": "c78e703d",
   "metadata": {},
   "source": [
    "# Questions"
   ]
  },
  {
   "cell_type": "markdown",
   "id": "e087682a",
   "metadata": {},
   "source": [
    "## Question 0 - Fuel Efficinecy MPG Distribution\n",
    "\n",
    "Based on the below plot:\n",
    "- The distribution appears normal with maybe some slight, very slight right tail"
   ]
  },
  {
   "cell_type": "code",
   "execution_count": 7,
   "id": "1e16dea0",
   "metadata": {},
   "outputs": [
    {
     "data": {
      "image/png": "[encoded data removed]",
      "text/plain": [
       "<Figure size 640x480 with 1 Axes>"
      ]
     },
     "metadata": {},
     "output_type": "display_data"
    }
   ],
   "source": [
    "sns.histplot(car_df_hw.fuel_efficiency_mpg, bins=25)#, kde=True)\n",
    "plt.title(\"Distribution of Fuel Efficiency (MPG)\")\n",
    "plt.xlabel(\"Fuel Efficiency (MPG)\")\n",
    "plt.ylabel(\"Number of Cars\")\n",
    "plt.show()"
   ]
  },
  {
   "cell_type": "markdown",
   "id": "c70b54da",
   "metadata": {},
   "source": [
    "# Q1 - Which column has missing values?\n",
    "\n",
    "The below shows that **Horsepower** has missing values"
   ]
  },
  {
   "cell_type": "code",
   "execution_count": 8,
   "id": "50a0fc9a",
   "metadata": {},
   "outputs": [
    {
     "name": "stdout",
     "output_type": "stream",
     "text": [
      "engine_displacement      0\n",
      "horsepower             708\n",
      "vehicle_weight           0\n",
      "model_year               0\n",
      "fuel_efficiency_mpg      0\n",
      "dtype: int64\n"
     ]
    }
   ],
   "source": [
    "missing_counts = car_df_hw.isnull().sum()\n",
    "print(missing_counts)"
   ]
  },
  {
   "cell_type": "markdown",
   "id": "2e6058b3",
   "metadata": {},
   "source": [
    "# Q2 - What's the median (50% percentile) for variable 'horsepower'?"
   ]
  },
  {
   "cell_type": "code",
   "execution_count": 9,
   "id": "de005fd8",
   "metadata": {},
   "outputs": [
    {
     "data": {
      "text/plain": [
       "149.0"
      ]
     },
     "execution_count": 9,
     "metadata": {},
     "output_type": "execute_result"
    }
   ],
   "source": [
    "float(car_df_hw.horsepower.median())"
   ]
  },
  {
   "cell_type": "markdown",
   "id": "a0845d51",
   "metadata": {},
   "source": [
    "# Q3 - 0 Fill or Mean Fill"
   ]
  },
  {
   "cell_type": "markdown",
   "id": "8407b3b3",
   "metadata": {},
   "source": [
    "## Split Dataset Into Train-Validation-Test\n",
    "\n",
    "- Train = 60%\n",
    "- Validation = 20%\n",
    "- Test = 20%"
   ]
  },
  {
   "cell_type": "code",
   "execution_count": 10,
   "id": "51d3520d",
   "metadata": {},
   "outputs": [],
   "source": [
    "np.random.seed(42)\n",
    "\n",
    "n = len(car_df_hw)\n",
    "\n",
    "n_val = int(0.2 * n)\n",
    "n_test = int(0.2 * n)\n",
    "n_train = n - (n_val + n_test)\n",
    "\n",
    "idx = np.arange(n)\n",
    "np.random.shuffle(idx)\n",
    "\n",
    "df_shuffled = car_df_hw.iloc[idx]\n",
    "\n",
    "df_train = df_shuffled.iloc[:n_train].copy()\n",
    "df_val = df_shuffled.iloc[n_train:n_train+n_val].copy()\n",
    "df_test = df_shuffled.iloc[n_train+n_val:].copy()\n",
    "\n",
    "\n",
    "y_train = df_train.fuel_efficiency_mpg.values\n",
    "y_val = df_val.fuel_efficiency_mpg.values\n",
    "y_test = df_test.fuel_efficiency_mpg.values\n",
    "\n",
    "# Remove target from features\n",
    "del df_train['fuel_efficiency_mpg']\n",
    "del df_val['fuel_efficiency_mpg']\n",
    "del df_test['fuel_efficiency_mpg']\n"
   ]
  },
  {
   "cell_type": "code",
   "execution_count": 11,
   "id": "c1de137a",
   "metadata": {},
   "outputs": [
    {
     "name": "stdout",
     "output_type": "stream",
     "text": [
      "9704\n"
     ]
    }
   ],
   "source": [
    "print(n)"
   ]
  },
  {
   "cell_type": "code",
   "execution_count": 12,
   "id": "2297d244",
   "metadata": {},
   "outputs": [
    {
     "name": "stdout",
     "output_type": "stream",
     "text": [
      "5824 1940 1940\n"
     ]
    }
   ],
   "source": [
    "print(len(df_train), len(df_val), len(df_test))"
   ]
  },
  {
   "cell_type": "markdown",
   "id": "8d0a03ed",
   "metadata": {},
   "source": [
    "### Linear Regression Function"
   ]
  },
  {
   "cell_type": "code",
   "execution_count": 13,
   "id": "d799b733",
   "metadata": {},
   "outputs": [],
   "source": [
    "def train_linear_regression(X, y):\n",
    "    ones = np.ones(X.shape[0])\n",
    "    X = np.column_stack([ones, X])\n",
    "\n",
    "    XTX = X.T.dot(X)\n",
    "    XTX_inv = np.linalg.inv(XTX)\n",
    "    w = XTX_inv.dot(X.T).dot(y)\n",
    "    \n",
    "    return w[0], w[1:]"
   ]
  },
  {
   "cell_type": "code",
   "execution_count": 14,
   "id": "2b58a830",
   "metadata": {},
   "outputs": [],
   "source": [
    "def rmse(y, y_pred):\n",
    "    error = y_pred - y\n",
    "    mse = (error ** 2).mean()\n",
    "    return np.sqrt(mse)"
   ]
  },
  {
   "cell_type": "markdown",
   "id": "7f98547c",
   "metadata": {},
   "source": [
    "### Prep Features"
   ]
  },
  {
   "cell_type": "code",
   "execution_count": 15,
   "id": "eba76d00",
   "metadata": {},
   "outputs": [],
   "source": [
    "base = ['engine_displacement', 'horsepower', 'vehicle_weight', 'model_year']"
   ]
  },
  {
   "cell_type": "markdown",
   "id": "9e87f77c",
   "metadata": {},
   "source": [
    "#### Use Zero To Fill Missing"
   ]
  },
  {
   "cell_type": "code",
   "execution_count": 16,
   "id": "b1137f80",
   "metadata": {},
   "outputs": [],
   "source": [
    "# --- Option A: Fill missing horsepower with 0\n",
    "def prepare_X_zero(df):\n",
    "    df_num = df[base].copy()\n",
    "    df_num = df_num.fillna(0)\n",
    "    return df_num.values"
   ]
  },
  {
   "cell_type": "code",
   "execution_count": 17,
   "id": "5416cb59",
   "metadata": {},
   "outputs": [],
   "source": [
    "## Train Test For 0\n",
    "\n",
    "X_train_0 = prepare_X_zero(df_train)\n",
    "X_val_0 = prepare_X_zero(df_val)\n",
    "\n",
    "w0_0, w_0 = train_linear_regression(X_train_0, y_train)\n",
    "y_pred_0 = w0_0 + X_val_0.dot(w_0)\n",
    "rmse_0 = rmse(y_val, y_pred_0)"
   ]
  },
  {
   "cell_type": "markdown",
   "id": "0fb3ddb9",
   "metadata": {},
   "source": [
    "#### Use Mean To Fill Missing"
   ]
  },
  {
   "cell_type": "code",
   "execution_count": 18,
   "id": "ce3630e9",
   "metadata": {},
   "outputs": [],
   "source": [
    "# --- Option B: Fill missing horsepower with mean\n",
    "hp_mean = df_train['horsepower'].mean()\n",
    "\n",
    "def prepare_X_mean(df):\n",
    "    df_num = df[base].copy()\n",
    "    df_num['horsepower'] = df_num['horsepower'].fillna(hp_mean)\n",
    "    return df_num.values\n"
   ]
  },
  {
   "cell_type": "code",
   "execution_count": 19,
   "id": "0a65290f",
   "metadata": {},
   "outputs": [],
   "source": [
    "## Train Test For Mean\n",
    "\n",
    "X_train_mean = prepare_X_mean(df_train)\n",
    "X_val_mean = prepare_X_mean(df_val)\n",
    "\n",
    "w0_mean, w_mean = train_linear_regression(X_train_mean, y_train)\n",
    "y_pred_mean = w0_mean + X_val_mean.dot(w_mean)\n",
    "rmse_mean = rmse(y_val, y_pred_mean)"
   ]
  },
  {
   "cell_type": "code",
   "execution_count": 20,
   "id": "36e17a96",
   "metadata": {},
   "outputs": [
    {
     "name": "stdout",
     "output_type": "stream",
     "text": [
      "RMSE 0 Fill: 0.5173782638841185\n",
      "RMSE MEAN fill: 0.4635965042344029\n"
     ]
    }
   ],
   "source": [
    "print(\"RMSE 0 Fill:\", rmse_0)\n",
    "print(\"RMSE MEAN fill:\", rmse_mean)"
   ]
  },
  {
   "cell_type": "markdown",
   "id": "13d89481",
   "metadata": {},
   "source": [
    "## Q3 - ANSWER\n",
    "\n",
    "- A LOWER RMSE is better.\n",
    "- That means that the **MEAN fill** works better than the *0 fill*."
   ]
  },
  {
   "cell_type": "markdown",
   "id": "44c8e7a3",
   "metadata": {},
   "source": [
    "# Q4 - Regularized Linear Model"
   ]
  },
  {
   "cell_type": "code",
   "execution_count": 21,
   "id": "5f12c038",
   "metadata": {},
   "outputs": [],
   "source": [
    "def prepare_X(df):\n",
    "    df = df.copy()\n",
    "    \n",
    "    # Select only the base features and fill missing values with 0\n",
    "    df_num = df[base].fillna(0)\n",
    "    \n",
    "    # Convert to NumPy array for linear regression\n",
    "    X = df_num.values\n",
    "    \n",
    "    return X"
   ]
  },
  {
   "cell_type": "code",
   "execution_count": 22,
   "id": "b6f5a4d4",
   "metadata": {},
   "outputs": [],
   "source": [
    "X_train = prepare_X(df_train)\n",
    "X_val = prepare_X(df_val)"
   ]
  },
  {
   "cell_type": "markdown",
   "id": "627dc587",
   "metadata": {},
   "source": [
    "## Try different regularization values"
   ]
  },
  {
   "cell_type": "code",
   "execution_count": 23,
   "id": "17ff8117",
   "metadata": {},
   "outputs": [],
   "source": [
    "def train_linear_regression_reg(X, y, r=0.0):\n",
    "    ones = np.ones(X.shape[0])\n",
    "    X = np.column_stack([ones, X])\n",
    "\n",
    "    XTX = X.T.dot(X)\n",
    "    reg = r * np.eye(XTX.shape[0])\n",
    "    XTX = XTX + reg\n",
    "\n",
    "    XTX_inv = np.linalg.inv(XTX)\n",
    "    w = XTX_inv.dot(X.T).dot(y)\n",
    "    \n",
    "    return w[0], w[1:]"
   ]
  },
  {
   "cell_type": "code",
   "execution_count": 24,
   "id": "8102fea9",
   "metadata": {},
   "outputs": [],
   "source": [
    "X_train = prepare_X(df_train)"
   ]
  },
  {
   "cell_type": "code",
   "execution_count": 25,
   "id": "2194a3fe",
   "metadata": {},
   "outputs": [
    {
     "name": "stdout",
     "output_type": "stream",
     "text": [
      "     0 RMSE: 0.51737826\n",
      "  0.01 RMSE: 0.51711155\n",
      "   0.1 RMSE: 0.51875251\n",
      "     1 RMSE: 0.52223488\n",
      "     5 RMSE: 0.52289161\n",
      "    10 RMSE: 0.52298130\n",
      "   100 RMSE: 0.52306362\n"
     ]
    }
   ],
   "source": [
    "for r in [0, 0.01, 0.1, 1, 5, 10, 100]:\n",
    "    w_0, w = train_linear_regression_reg(X_train, y_train, r=r)\n",
    "    y_pred = w_0 + X_val.dot(w)\n",
    "    score = rmse(y_val, y_pred)\n",
    "    print('%6s RMSE: %.8f' % (r, score))"
   ]
  },
  {
   "cell_type": "markdown",
   "id": "91e5a423",
   "metadata": {},
   "source": [
    "## Q4 - ANSWER\n",
    "\n",
    "- A LOWER RMSE is better.\n",
    "- That means that the **0.01 RMSE** works best by as slight margin."
   ]
  },
  {
   "cell_type": "markdown",
   "id": "e8a24b35",
   "metadata": {},
   "source": [
    "# Q5 - Best Seed and ST dev"
   ]
  },
  {
   "cell_type": "code",
   "execution_count": 29,
   "id": "fa96075d",
   "metadata": {},
   "outputs": [
    {
     "name": "stdout",
     "output_type": "stream",
     "text": [
      "     0 RMSE: 0.52065313\n",
      "     1 RMSE: 0.52133889\n",
      "     2 RMSE: 0.52280700\n",
      "     3 RMSE: 0.51595167\n",
      "     4 RMSE: 0.51091295\n",
      "     5 RMSE: 0.52834065\n",
      "     6 RMSE: 0.53139107\n",
      "     7 RMSE: 0.50906704\n",
      "     8 RMSE: 0.51473991\n",
      "     9 RMSE: 0.51318659\n",
      "\n",
      "Standard deviation: 0.006989\n"
     ]
    }
   ],
   "source": [
    "rmse_scores = []\n",
    "\n",
    "for seed in [0, 1, 2, 3, 4, 5, 6, 7, 8, 9]:\n",
    "    # ---------------------------\n",
    "    # Split data (same logic as Q3)\n",
    "    # ---------------------------\n",
    "    np.random.seed(seed)\n",
    "    \n",
    "    n = len(car_df_hw)\n",
    "    n_val = int(0.2 * n)\n",
    "    n_test = int(0.2 * n)\n",
    "    n_train = n - (n_val + n_test)\n",
    "    \n",
    "    idx = np.arange(n)\n",
    "    np.random.shuffle(idx)\n",
    "    \n",
    "    df_shuffled = car_df_hw.iloc[idx]\n",
    "    \n",
    "    df_train = df_shuffled.iloc[:n_train].copy()\n",
    "    df_val = df_shuffled.iloc[n_train:n_train+n_val].copy()\n",
    "    df_test = df_shuffled.iloc[n_train+n_val:].copy()\n",
    "    \n",
    "    y_train = df_train.fuel_efficiency_mpg.values\n",
    "    y_val = df_val.fuel_efficiency_mpg.values\n",
    "    \n",
    "    del df_train['fuel_efficiency_mpg']\n",
    "    del df_val['fuel_efficiency_mpg']\n",
    "    del df_test['fuel_efficiency_mpg']\n",
    "    \n",
    "    # ---------------------------\n",
    "    # Prepare features (fill 0)\n",
    "    # ---------------------------\n",
    "    X_train = prepare_X(df_train)\n",
    "    X_val = prepare_X(df_val)\n",
    "    \n",
    "    # ---------------------------\n",
    "    # Train and evaluate\n",
    "    # ---------------------------\n",
    "    w0, w = train_linear_regression(X_train, y_train)\n",
    "    y_pred = w0 + X_val.dot(w)\n",
    "    \n",
    "    score = rmse(y_val, y_pred)\n",
    "    rmse_scores.append(score)\n",
    "\n",
    "    print('%6s RMSE: %.8f' % (seed, score))\n",
    "\n",
    "# ---------------------------\n",
    "# Compute and report std dev\n",
    "# ---------------------------\n",
    "std = np.std(rmse_scores)\n",
    "print('\\nStandard deviation: %.6f' % std)\n",
    "#print(\"RMSE scores:\", [round(s, 3) for s in rmse_scores])\n",
    "#print(\"Standard deviation:\", round(std, 3))"
   ]
  },
  {
   "cell_type": "markdown",
   "id": "9d908eef",
   "metadata": {},
   "source": [
    "## Q5 - ANSWER\n",
    "\n",
    "The answer for this question is the Standard Deviation of **0.006**"
   ]
  },
  {
   "cell_type": "markdown",
   "id": "506a0d6a",
   "metadata": {},
   "source": [
    "# Q6 - RMSE For Dataset?"
   ]
  },
  {
   "cell_type": "markdown",
   "id": "cade3c37",
   "metadata": {},
   "source": [
    "### Split Data"
   ]
  },
  {
   "cell_type": "code",
   "execution_count": 30,
   "id": "b96b15a3",
   "metadata": {},
   "outputs": [],
   "source": [
    "np.random.seed(9)\n",
    "\n",
    "n = len(car_df_hw)\n",
    "n_val = int(0.2 * n)\n",
    "n_test = int(0.2 * n)\n",
    "n_train = n - (n_val + n_test)\n",
    "\n",
    "idx = np.arange(n)\n",
    "np.random.shuffle(idx)\n",
    "\n",
    "df_shuffled = car_df_hw.iloc[idx]\n",
    "\n",
    "df_train = df_shuffled.iloc[:n_train].copy()\n",
    "df_val = df_shuffled.iloc[n_train:n_train+n_val].copy()\n",
    "df_test = df_shuffled.iloc[n_train+n_val:].copy()"
   ]
  },
  {
   "cell_type": "markdown",
   "id": "3ecf54e3",
   "metadata": {},
   "source": [
    "### Combine Train-Test"
   ]
  },
  {
   "cell_type": "code",
   "execution_count": 31,
   "id": "44c924c2",
   "metadata": {},
   "outputs": [],
   "source": [
    "df_full_train = pd.concat([df_train, df_val])\n",
    "\n",
    "y_full_train = df_full_train.fuel_efficiency_mpg.values\n",
    "y_test = df_test.fuel_efficiency_mpg.values\n",
    "\n",
    "del df_full_train['fuel_efficiency_mpg']\n",
    "del df_test['fuel_efficiency_mpg']"
   ]
  },
  {
   "cell_type": "markdown",
   "id": "70c75091",
   "metadata": {},
   "source": [
    "### Prepare features - fill missing with 0"
   ]
  },
  {
   "cell_type": "code",
   "execution_count": 32,
   "id": "f4923ceb",
   "metadata": {},
   "outputs": [],
   "source": [
    "X_full_train = prepare_X(df_full_train)\n",
    "X_test = prepare_X(df_test)"
   ]
  },
  {
   "cell_type": "markdown",
   "id": "3097bd93",
   "metadata": {},
   "source": [
    "### Train regularized linear regression"
   ]
  },
  {
   "cell_type": "code",
   "execution_count": 34,
   "id": "2c599d1b",
   "metadata": {},
   "outputs": [],
   "source": [
    "w0, w = train_linear_regression_reg(X_full_train, y_full_train, r=0.001)"
   ]
  },
  {
   "cell_type": "markdown",
   "id": "e8a58562",
   "metadata": {},
   "source": [
    "### Predict and evaluate on test set"
   ]
  },
  {
   "cell_type": "code",
   "execution_count": 36,
   "id": "ba7efd96",
   "metadata": {},
   "outputs": [
    {
     "name": "stdout",
     "output_type": "stream",
     "text": [
      "Test RMSE: 0.5156\n"
     ]
    }
   ],
   "source": [
    "y_pred = w0 + X_test.dot(w)\n",
    "score = rmse(y_test, y_pred)\n",
    "\n",
    "print(\"Test RMSE: %.4f\" % score)"
   ]
  },
  {
   "cell_type": "markdown",
   "id": "71778175",
   "metadata": {},
   "source": [
    "## Q6 - ANSWER\n",
    "\n",
    "Test RMSE: 0.5156"
   ]
  }
 ],
 "metadata": {
  "kernelspec": {
   "display_name": "Python 3",
   "language": "python",
   "name": "python3"
  },
  "language_info": {
   "codemirror_mode": {
    "name": "ipython",
    "version": 3
   },
   "file_extension": ".py",
   "mimetype": "text/x-python",
   "name": "python",
   "nbconvert_exporter": "python",
   "pygments_lexer": "ipython3",
   "version": "3.13.7"
  }
 },
 "nbformat": 4,
 "nbformat_minor": 5
}
