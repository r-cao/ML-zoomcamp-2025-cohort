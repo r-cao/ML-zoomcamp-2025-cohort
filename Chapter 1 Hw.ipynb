{
 "cells": [
  {
   "cell_type": "markdown",
   "id": "5eb2d50a",
   "metadata": {},
   "source": [
    "# Import Packages"
   ]
  },
  {
   "cell_type": "code",
   "execution_count": 1,
   "id": "73050829",
   "metadata": {},
   "outputs": [],
   "source": [
    "import pandas as pd\n",
    "import numpy as np\n",
    "import matplotlib.pyplot as plt\n",
    "import seaborn"
   ]
  },
  {
   "cell_type": "markdown",
   "id": "9f9ac702",
   "metadata": {},
   "source": [
    "## Q1 - Pandas Version"
   ]
  },
  {
   "cell_type": "code",
   "execution_count": 2,
   "id": "e48b8cf2",
   "metadata": {},
   "outputs": [
    {
     "data": {
      "text/plain": [
       "'2.3.2'"
      ]
     },
     "execution_count": 2,
     "metadata": {},
     "output_type": "execute_result"
    }
   ],
   "source": [
    "pd.__version__"
   ]
  },
  {
   "cell_type": "markdown",
   "id": "7feaf58c",
   "metadata": {},
   "source": [
    "# Import dataset"
   ]
  },
  {
   "cell_type": "code",
   "execution_count": 5,
   "id": "c6656090",
   "metadata": {},
   "outputs": [],
   "source": [
    "import requests\n",
    "\n",
    "url = \"https://raw.githubusercontent.com/alexeygrigorev/datasets/master/car_fuel_efficiency.csv\"\n",
    "r = requests.get(url)\n",
    "with open(\"car_fuel_efficiency.csv\", \"wb\") as f:\n",
    "    f.write(r.content)"
   ]
  },
  {
   "cell_type": "code",
   "execution_count": 6,
   "id": "ceae280b",
   "metadata": {},
   "outputs": [],
   "source": [
    "car_df = pd.read_csv(\"car_fuel_efficiency.csv\")"
   ]
  },
  {
   "cell_type": "code",
   "execution_count": 9,
   "id": "d478e456",
   "metadata": {},
   "outputs": [
    {
     "data": {
      "text/html": [
       "<div>\n",
       "<style scoped>\n",
       "    .dataframe tbody tr th:only-of-type {\n",
       "        vertical-align: middle;\n",
       "    }\n",
       "\n",
       "    .dataframe tbody tr th {\n",
       "        vertical-align: top;\n",
       "    }\n",
       "\n",
       "    .dataframe thead th {\n",
       "        text-align: right;\n",
       "    }\n",
       "</style>\n",
       "<table border=\"1\" class=\"dataframe\">\n",
       "  <thead>\n",
       "    <tr style=\"text-align: right;\">\n",
       "      <th></th>\n",
       "      <th>engine_displacement</th>\n",
       "      <th>num_cylinders</th>\n",
       "      <th>horsepower</th>\n",
       "      <th>vehicle_weight</th>\n",
       "      <th>acceleration</th>\n",
       "      <th>model_year</th>\n",
       "      <th>origin</th>\n",
       "      <th>fuel_type</th>\n",
       "      <th>drivetrain</th>\n",
       "      <th>num_doors</th>\n",
       "      <th>fuel_efficiency_mpg</th>\n",
       "    </tr>\n",
       "  </thead>\n",
       "  <tbody>\n",
       "    <tr>\n",
       "      <th>0</th>\n",
       "      <td>170</td>\n",
       "      <td>3.0</td>\n",
       "      <td>159.0</td>\n",
       "      <td>3413.433759</td>\n",
       "      <td>17.7</td>\n",
       "      <td>2003</td>\n",
       "      <td>Europe</td>\n",
       "      <td>Gasoline</td>\n",
       "      <td>All-wheel drive</td>\n",
       "      <td>0.0</td>\n",
       "      <td>13.231729</td>\n",
       "    </tr>\n",
       "    <tr>\n",
       "      <th>1</th>\n",
       "      <td>130</td>\n",
       "      <td>5.0</td>\n",
       "      <td>97.0</td>\n",
       "      <td>3149.664934</td>\n",
       "      <td>17.8</td>\n",
       "      <td>2007</td>\n",
       "      <td>USA</td>\n",
       "      <td>Gasoline</td>\n",
       "      <td>Front-wheel drive</td>\n",
       "      <td>0.0</td>\n",
       "      <td>13.688217</td>\n",
       "    </tr>\n",
       "    <tr>\n",
       "      <th>2</th>\n",
       "      <td>170</td>\n",
       "      <td>NaN</td>\n",
       "      <td>78.0</td>\n",
       "      <td>3079.038997</td>\n",
       "      <td>15.1</td>\n",
       "      <td>2018</td>\n",
       "      <td>Europe</td>\n",
       "      <td>Gasoline</td>\n",
       "      <td>Front-wheel drive</td>\n",
       "      <td>0.0</td>\n",
       "      <td>14.246341</td>\n",
       "    </tr>\n",
       "    <tr>\n",
       "      <th>3</th>\n",
       "      <td>220</td>\n",
       "      <td>4.0</td>\n",
       "      <td>NaN</td>\n",
       "      <td>2542.392402</td>\n",
       "      <td>20.2</td>\n",
       "      <td>2009</td>\n",
       "      <td>USA</td>\n",
       "      <td>Diesel</td>\n",
       "      <td>All-wheel drive</td>\n",
       "      <td>2.0</td>\n",
       "      <td>16.912736</td>\n",
       "    </tr>\n",
       "    <tr>\n",
       "      <th>4</th>\n",
       "      <td>210</td>\n",
       "      <td>1.0</td>\n",
       "      <td>140.0</td>\n",
       "      <td>3460.870990</td>\n",
       "      <td>14.4</td>\n",
       "      <td>2009</td>\n",
       "      <td>Europe</td>\n",
       "      <td>Gasoline</td>\n",
       "      <td>All-wheel drive</td>\n",
       "      <td>2.0</td>\n",
       "      <td>12.488369</td>\n",
       "    </tr>\n",
       "  </tbody>\n",
       "</table>\n",
       "</div>"
      ],
      "text/plain": [
       "   engine_displacement  num_cylinders  horsepower  vehicle_weight  \\\n",
       "0                  170            3.0       159.0     3413.433759   \n",
       "1                  130            5.0        97.0     3149.664934   \n",
       "2                  170            NaN        78.0     3079.038997   \n",
       "3                  220            4.0         NaN     2542.392402   \n",
       "4                  210            1.0       140.0     3460.870990   \n",
       "\n",
       "   acceleration  model_year  origin fuel_type         drivetrain  num_doors  \\\n",
       "0          17.7        2003  Europe  Gasoline    All-wheel drive        0.0   \n",
       "1          17.8        2007     USA  Gasoline  Front-wheel drive        0.0   \n",
       "2          15.1        2018  Europe  Gasoline  Front-wheel drive        0.0   \n",
       "3          20.2        2009     USA    Diesel    All-wheel drive        2.0   \n",
       "4          14.4        2009  Europe  Gasoline    All-wheel drive        2.0   \n",
       "\n",
       "   fuel_efficiency_mpg  \n",
       "0            13.231729  \n",
       "1            13.688217  \n",
       "2            14.246341  \n",
       "3            16.912736  \n",
       "4            12.488369  "
      ]
     },
     "execution_count": 9,
     "metadata": {},
     "output_type": "execute_result"
    }
   ],
   "source": [
    "car_df.head()"
   ]
  },
  {
   "cell_type": "markdown",
   "id": "beec9fb9",
   "metadata": {},
   "source": [
    "## Q2 - Number of rows/entries in dataset"
   ]
  },
  {
   "cell_type": "code",
   "execution_count": 8,
   "id": "3167c493",
   "metadata": {},
   "outputs": [
    {
     "name": "stdout",
     "output_type": "stream",
     "text": [
      "Total rows in the car dataset:  9704\n"
     ]
    }
   ],
   "source": [
    "car_row_count = len(car_df)\n",
    "\n",
    "print(\"Total rows in the car dataset: \", car_row_count)"
   ]
  },
  {
   "cell_type": "markdown",
   "id": "63ba2716",
   "metadata": {},
   "source": [
    "## Q3 - Number of distinct fuel types"
   ]
  },
  {
   "cell_type": "code",
   "execution_count": 12,
   "id": "3349b69a",
   "metadata": {},
   "outputs": [
    {
     "name": "stdout",
     "output_type": "stream",
     "text": [
      "Unique fuel type count: fuel_type    2\n",
      "dtype: int64\n"
     ]
    }
   ],
   "source": [
    "car_fuel_col = car_df[[\"fuel_type\"]]\n",
    "\n",
    "unique_fuel_types = car_fuel_col.nunique()\n",
    "\n",
    "print('Unique fuel type count:', unique_fuel_types)"
   ]
  },
  {
   "cell_type": "markdown",
   "id": "9d85905a",
   "metadata": {},
   "source": [
    "## Q4 - Number of Cols With Missing Values"
   ]
  },
  {
   "cell_type": "code",
   "execution_count": 13,
   "id": "668b364e",
   "metadata": {},
   "outputs": [
    {
     "name": "stdout",
     "output_type": "stream",
     "text": [
      "engine_displacement      0\n",
      "num_cylinders          482\n",
      "horsepower             708\n",
      "vehicle_weight           0\n",
      "acceleration           930\n",
      "model_year               0\n",
      "origin                   0\n",
      "fuel_type                0\n",
      "drivetrain               0\n",
      "num_doors              502\n",
      "fuel_efficiency_mpg      0\n",
      "dtype: int64\n"
     ]
    }
   ],
   "source": [
    "missing_counts = car_df.isnull().sum()\n",
    "print(missing_counts)"
   ]
  },
  {
   "cell_type": "code",
   "execution_count": 14,
   "id": "1741a16c",
   "metadata": {},
   "outputs": [
    {
     "name": "stdout",
     "output_type": "stream",
     "text": [
      "Number of columns with missing values: 4\n"
     ]
    }
   ],
   "source": [
    "num_columns_with_missing = car_df.isnull().any().sum()\n",
    "print(\"Number of columns with missing values:\", num_columns_with_missing)"
   ]
  },
  {
   "cell_type": "markdown",
   "id": "5ba1b284",
   "metadata": {},
   "source": [
    "## Q5 - Cars MAX Fuel Efficiency for Cars from Origin = Asia"
   ]
  },
  {
   "cell_type": "code",
   "execution_count": 23,
   "id": "4cf07796",
   "metadata": {},
   "outputs": [
    {
     "name": "stdout",
     "output_type": "stream",
     "text": [
      "['Europe' 'USA' 'Asia']\n"
     ]
    }
   ],
   "source": [
    "unique_origins = car_df['origin'].unique()\n",
    "print(unique_origins)"
   ]
  },
  {
   "cell_type": "code",
   "execution_count": null,
   "id": "25bbed52",
   "metadata": {},
   "outputs": [
    {
     "name": "stdout",
     "output_type": "stream",
     "text": [
      "['Asia']\n"
     ]
    }
   ],
   "source": [
    "cars_asia = car_df[car_df['origin'] == 'Asia']\n",
    "print(cars_asia['origin'].unique())"
   ]
  },
  {
   "cell_type": "code",
   "execution_count": 33,
   "id": "e16a812f",
   "metadata": {},
   "outputs": [
    {
     "name": "stdout",
     "output_type": "stream",
     "text": [
      "MAX fuel efficiency for cars from asia ONLY:  23.759122836520497\n"
     ]
    }
   ],
   "source": [
    "max_asia_car_fuel_efficiency = cars_asia['fuel_efficiency_mpg'].max()\n",
    "print('MAX fuel efficiency for cars from asia ONLY: ', max_asia_car_fuel_efficiency)"
   ]
  },
  {
   "cell_type": "markdown",
   "id": "827fc53e",
   "metadata": {},
   "source": [
    "## Q6 - Median Horsepower"
   ]
  },
  {
   "cell_type": "code",
   "execution_count": 40,
   "id": "91bec598",
   "metadata": {},
   "outputs": [
    {
     "name": "stdout",
     "output_type": "stream",
     "text": [
      "Median horsepower:  horsepower    149.0\n",
      "dtype: float64\n"
     ]
    }
   ],
   "source": [
    "horsepower_col = car_df[[\"horsepower\"]]\n",
    "median_horsepower = horsepower_col.median()\n",
    "\n",
    "print('Median horsepower: ', median_horsepower)"
   ]
  },
  {
   "cell_type": "code",
   "execution_count": 45,
   "id": "a3dd1218",
   "metadata": {},
   "outputs": [
    {
     "name": "stdout",
     "output_type": "stream",
     "text": [
      "Missing values before fill: 0\n",
      "Missing values after fill: 0\n",
      "NEW MEDIAN after ffill:  152.0\n"
     ]
    }
   ],
   "source": [
    "horsepower_mode = car_df[\"horsepower\"].mode()[0]\n",
    "#print(horsepower_mode)\n",
    "\n",
    "missing_before = car_df['horsepower'].isnull().sum()\n",
    "print(\"Missing values before fill:\", missing_before)\n",
    "\n",
    "#fillna all missing values with the mode\n",
    "car_df[\"horsepower\"] = car_df[\"horsepower\"].fillna(horsepower_mode)\n",
    "\n",
    "# Count missing values after fill\n",
    "missing_after = car_df['horsepower'].isnull().sum()\n",
    "print(\"Missing values after fill:\", missing_after)\n",
    "\n",
    "median_ffill_horsepower = car_df[\"horsepower\"].median()\n",
    "print('NEW MEDIAN after ffill: ', median_ffill_horsepower)\n"
   ]
  },
  {
   "cell_type": "markdown",
   "id": "9a667fd0",
   "metadata": {},
   "source": [
    "## Q7 - Sum of Car Weights ASIA Only"
   ]
  },
  {
   "cell_type": "code",
   "execution_count": 46,
   "id": "4ac5ac5d",
   "metadata": {},
   "outputs": [
    {
     "name": "stdout",
     "output_type": "stream",
     "text": [
      "['Asia']\n"
     ]
    }
   ],
   "source": [
    "print(cars_asia['origin'].unique())"
   ]
  },
  {
   "cell_type": "code",
   "execution_count": 47,
   "id": "6f3bc35c",
   "metadata": {},
   "outputs": [
    {
     "data": {
      "text/html": [
       "<div>\n",
       "<style scoped>\n",
       "    .dataframe tbody tr th:only-of-type {\n",
       "        vertical-align: middle;\n",
       "    }\n",
       "\n",
       "    .dataframe tbody tr th {\n",
       "        vertical-align: top;\n",
       "    }\n",
       "\n",
       "    .dataframe thead th {\n",
       "        text-align: right;\n",
       "    }\n",
       "</style>\n",
       "<table border=\"1\" class=\"dataframe\">\n",
       "  <thead>\n",
       "    <tr style=\"text-align: right;\">\n",
       "      <th></th>\n",
       "      <th>vehicle_weight</th>\n",
       "      <th>model_year</th>\n",
       "    </tr>\n",
       "  </thead>\n",
       "  <tbody>\n",
       "    <tr>\n",
       "      <th>8</th>\n",
       "      <td>2714.219310</td>\n",
       "      <td>2016</td>\n",
       "    </tr>\n",
       "    <tr>\n",
       "      <th>12</th>\n",
       "      <td>2783.868974</td>\n",
       "      <td>2010</td>\n",
       "    </tr>\n",
       "    <tr>\n",
       "      <th>14</th>\n",
       "      <td>3582.687368</td>\n",
       "      <td>2007</td>\n",
       "    </tr>\n",
       "    <tr>\n",
       "      <th>20</th>\n",
       "      <td>2231.808142</td>\n",
       "      <td>2011</td>\n",
       "    </tr>\n",
       "    <tr>\n",
       "      <th>21</th>\n",
       "      <td>2659.431451</td>\n",
       "      <td>2016</td>\n",
       "    </tr>\n",
       "  </tbody>\n",
       "</table>\n",
       "</div>"
      ],
      "text/plain": [
       "    vehicle_weight  model_year\n",
       "8      2714.219310        2016\n",
       "12     2783.868974        2010\n",
       "14     3582.687368        2007\n",
       "20     2231.808142        2011\n",
       "21     2659.431451        2016"
      ]
     },
     "execution_count": 47,
     "metadata": {},
     "output_type": "execute_result"
    }
   ],
   "source": [
    "asia_specific_cols = cars_asia[['vehicle_weight', 'model_year']]\n",
    "asia_specific_cols.head()"
   ]
  },
  {
   "cell_type": "code",
   "execution_count": 49,
   "id": "a3f97695",
   "metadata": {},
   "outputs": [
    {
     "name": "stdout",
     "output_type": "stream",
     "text": [
      "Sum of all elements: 0.5187709081074016\n"
     ]
    }
   ],
   "source": [
    "# 1. select the first 7 entries\n",
    "asia_first_seven = asia_specific_cols.head(7)\n",
    "\n",
    "# 2. get the underlying Numpy array X\n",
    "X = asia_first_seven.values\n",
    "\n",
    "# 3. Compute matrix-matrix multiplication between the transpose of X and X. To get the transpose, use X.T. Let's call the result XTX.\n",
    "XTX = np.dot(X.T, X)\n",
    "\n",
    "# 4. Invert XTX\n",
    "XTX_inv = np.linalg.inv(XTX)\n",
    "\n",
    "# 5. Create the array y with specific values\n",
    "y = np.array([1100, 1300, 800, 900, 1000, 1100, 1200])\n",
    "\n",
    "# 6. Multiply the inverse of XTX with transpose of X, then multiply result by y\n",
    "w = XTX_inv.dot(X.T).dot(y)\n",
    "\n",
    "# 7. Sum all elements of w\n",
    "result_sum = np.sum(w)\n",
    "\n",
    "print(\"Sum of all elements:\", result_sum)"
   ]
  }
 ],
 "metadata": {
  "kernelspec": {
   "display_name": ".venv",
   "language": "python",
   "name": "python3"
  },
  "language_info": {
   "codemirror_mode": {
    "name": "ipython",
    "version": 3
   },
   "file_extension": ".py",
   "mimetype": "text/x-python",
   "name": "python",
   "nbconvert_exporter": "python",
   "pygments_lexer": "ipython3",
   "version": "3.13.7"
  }
 },
 "nbformat": 4,
 "nbformat_minor": 5
}
